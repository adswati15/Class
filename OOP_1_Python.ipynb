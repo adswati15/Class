{
 "cells": [
  {
   "cell_type": "markdown",
   "metadata": {},
   "source": [
    "# Classes\n"
   ]
  },
  {
   "cell_type": "code",
   "execution_count": 12,
   "metadata": {},
   "outputs": [],
   "source": [
    "#object or instance\n",
    "class Patient():\n",
    "     def __init__(self, name, age , gender , disease): #constructor / initializer #mendetory things #dendor\n",
    "            \n",
    "            #Behaviour-->>functions/methods\n",
    "            self.name = name #Attributes-->>variable\n",
    "            self.age = age\n",
    "            self.gender = gender\n",
    "            self.disease = disease\n",
    "   \n"
   ]
  },
  {
   "cell_type": "code",
   "execution_count": 15,
   "metadata": {
    "collapsed": true
   },
   "outputs": [],
   "source": [
    "P1 = Patient(\"Ghabbar\",50,\"Male\",\"Aids\")"
   ]
  },
  {
   "cell_type": "code",
   "execution_count": 14,
   "metadata": {
    "collapsed": true
   },
   "outputs": [],
   "source": [
    "P2 = Patient(\"Samba\", 45 , \"Male\" , \"Malaria\")\n",
    "\n"
   ]
  },
  {
   "cell_type": "code",
   "execution_count": 17,
   "metadata": {},
   "outputs": [
    {
     "data": {
      "text/plain": [
       "'Ghabbar'"
      ]
     },
     "execution_count": 17,
     "metadata": {},
     "output_type": "execute_result"
    }
   ],
   "source": [
    "P1.name"
   ]
  },
  {
   "cell_type": "code",
   "execution_count": 18,
   "metadata": {},
   "outputs": [
    {
     "data": {
      "text/plain": [
       "'Aids'"
      ]
     },
     "execution_count": 18,
     "metadata": {},
     "output_type": "execute_result"
    }
   ],
   "source": [
    "P1.disease"
   ]
  },
  {
   "cell_type": "code",
   "execution_count": 19,
   "metadata": {},
   "outputs": [
    {
     "data": {
      "text/plain": [
       "'Malaria'"
      ]
     },
     "execution_count": 19,
     "metadata": {},
     "output_type": "execute_result"
    }
   ],
   "source": [
    "P2.disease\n"
   ]
  },
  {
   "cell_type": "code",
   "execution_count": 20,
   "metadata": {
    "collapsed": true
   },
   "outputs": [],
   "source": [
    "#self creating copies of all object's attributes\n"
   ]
  },
  {
   "cell_type": "code",
   "execution_count": 21,
   "metadata": {
    "collapsed": true
   },
   "outputs": [],
   "source": [
    "class Student():\n",
    "    def __init__(self , name ,father_name , sex , age , course):\n",
    "        self.name = name\n",
    "        self.father_name = father_name\n",
    "        self.sex = sex\n",
    "        self.age = age\n",
    "        self.course = course\n",
    "        \n",
    " "
   ]
  },
  {
   "cell_type": "code",
   "execution_count": 25,
   "metadata": {
    "collapsed": true
   },
   "outputs": [],
   "source": [
    "S1 =Student(\"Adeel\",\"Abdul_Qadir\",\"Male\",23,\"IE\")"
   ]
  },
  {
   "cell_type": "code",
   "execution_count": 24,
   "metadata": {
    "collapsed": true
   },
   "outputs": [],
   "source": [
    "S2 =Student(\"Hammad\",\"Muhammad Akram\",\"Male\",23,\"CS\")"
   ]
  },
  {
   "cell_type": "code",
   "execution_count": 27,
   "metadata": {},
   "outputs": [
    {
     "data": {
      "text/plain": [
       "'Hammad'"
      ]
     },
     "execution_count": 27,
     "metadata": {},
     "output_type": "execute_result"
    }
   ],
   "source": [
    "S2.name\n"
   ]
  },
  {
   "cell_type": "code",
   "execution_count": 51,
   "metadata": {},
   "outputs": [],
   "source": [
    "class dog():\n",
    "    def __init__(self,name, age):\n",
    "        self.name = name\n",
    "        self.age = age\n",
    "    def sit(self):\n",
    "        print(self.name.title()+\" is now sitting\")\n",
    "    def roll_over(self):\n",
    "        print(self.name.title()+\" is rolled over\")\n",
    "        \n",
    "        "
   ]
  },
  {
   "cell_type": "code",
   "execution_count": 52,
   "metadata": {},
   "outputs": [
    {
     "name": "stdout",
     "output_type": "stream",
     "text": [
      "Zardari is now sitting\n",
      "Shphard is rolled over\n"
     ]
    }
   ],
   "source": [
    "d1 = dog(\"zardari\",48)\n",
    "d1.sit()\n",
    "d1 = dog(\"shphard\",48)\n",
    "d1.roll_over()"
   ]
  },
  {
   "cell_type": "code",
   "execution_count": 15,
   "metadata": {},
   "outputs": [],
   "source": [
    "class Restaurant():\n",
    "    def __init__(self, restaurant_name , cuisine_type):\n",
    "        self.rest_name = restaurant_name \n",
    "        self.cui_name =  cuisine_type\n",
    "    def open_restaurant(self):\n",
    "            print(\"Restaurant is Open\")\n",
    "    def describe_res(self):\n",
    "        print(f\"{self.rest_name.title()}   {self.cui_name.title()}\")\n",
    "        \n",
    "        \n",
    "        \n",
    "        \n",
    "        \n",
    "        \n",
    "\n",
    "    \n",
    "    "
   ]
  },
  {
   "cell_type": "code",
   "execution_count": 25,
   "metadata": {
    "collapsed": true
   },
   "outputs": [],
   "source": [
    "R1 = Restaurant(\"Lasani\",\"Chinese\")\n",
    "R2 = Restaurant(\"Karachi\",\"Turkish\")\n",
    "R3 = Restaurant(\"Shinwair\",\"Kabuli\")"
   ]
  },
  {
   "cell_type": "code",
   "execution_count": 17,
   "metadata": {},
   "outputs": [
    {
     "name": "stdout",
     "output_type": "stream",
     "text": [
      "Lasani   Chinese\n"
     ]
    }
   ],
   "source": [
    "R1.describe_res()\n",
    "\n",
    "\n",
    "\n",
    "\n"
   ]
  },
  {
   "cell_type": "code",
   "execution_count": 18,
   "metadata": {},
   "outputs": [
    {
     "name": "stdout",
     "output_type": "stream",
     "text": [
      "Karachi   Turkish\n"
     ]
    }
   ],
   "source": [
    "R2.describe_res()"
   ]
  },
  {
   "cell_type": "code",
   "execution_count": 26,
   "metadata": {},
   "outputs": [
    {
     "name": "stdout",
     "output_type": "stream",
     "text": [
      "Shinwair   Kabuli\n"
     ]
    }
   ],
   "source": [
    "R3.describe_res()"
   ]
  },
  {
   "cell_type": "code",
   "execution_count": 32,
   "metadata": {},
   "outputs": [],
   "source": [
    "class Car():\n",
    "    def __init__(self,make,model,year):\n",
    "        self.make=  make\n",
    "        self.model = model\n",
    "        self.year = year\n",
    "    def get_descriptive_name(self):\n",
    "        long_name = str(self.year)+ ' ' + self.make + ' ' +self.model\n",
    "        return long_name.title()\n",
    "        \n",
    "    \n",
    "    \n",
    "    \n",
    "\n",
    "    "
   ]
  },
  {
   "cell_type": "code",
   "execution_count": 33,
   "metadata": {
    "collapsed": true
   },
   "outputs": [],
   "source": [
    "C1 = Car(\"Audi\",\"A8\",2019)"
   ]
  },
  {
   "cell_type": "code",
   "execution_count": 36,
   "metadata": {},
   "outputs": [],
   "source": [
    "my_car=C1.get_descriptive_name()"
   ]
  },
  {
   "cell_type": "code",
   "execution_count": 38,
   "metadata": {},
   "outputs": [
    {
     "name": "stdout",
     "output_type": "stream",
     "text": [
      "2019 Audi A8\n"
     ]
    }
   ],
   "source": [
    "print(my_car)"
   ]
  },
  {
   "cell_type": "code",
   "execution_count": 50,
   "metadata": {},
   "outputs": [],
   "source": [
    "#setting a default value for an attribute\n",
    "class Car():\n",
    "    def __init__(self,make,model,year):\n",
    "        self.make=  make\n",
    "        self.model = model\n",
    "        self.year = year\n",
    "        self.odometer_reading = 0 # this attribute is not mandetory for instance creation\n",
    "    def get_descriptive_name(self):\n",
    "        long_name = str(self.year)+ ' ' + self.make + ' ' +self.model\n",
    "        return long_name.title()\n",
    "        \n",
    "    def read_odometer(self):\n",
    "        print(\"This car has\"+' ' + str(self.odometer_reading) + ' '+\"miles on meter\")\n",
    "        \n",
    "    "
   ]
  },
  {
   "cell_type": "code",
   "execution_count": 51,
   "metadata": {
    "collapsed": true
   },
   "outputs": [],
   "source": [
    "C1 = Car(\"Audi\",\"A8\",2019)"
   ]
  },
  {
   "cell_type": "code",
   "execution_count": 52,
   "metadata": {},
   "outputs": [
    {
     "name": "stdout",
     "output_type": "stream",
     "text": [
      "This car has 0 miles on meter\n"
     ]
    }
   ],
   "source": [
    "C1.read_odometer()"
   ]
  },
  {
   "cell_type": "markdown",
   "metadata": {},
   "source": [
    "# modifying attributes values\n",
    "# direct \n",
    "## indirect through function\n",
    "\n"
   ]
  },
  {
   "cell_type": "code",
   "execution_count": 54,
   "metadata": {},
   "outputs": [
    {
     "data": {
      "text/plain": [
       "0"
      ]
     },
     "execution_count": 54,
     "metadata": {},
     "output_type": "execute_result"
    }
   ],
   "source": [
    "C1.odometer_reading"
   ]
  },
  {
   "cell_type": "code",
   "execution_count": 62,
   "metadata": {},
   "outputs": [
    {
     "name": "stdout",
     "output_type": "stream",
     "text": [
      "This car has 34 miles on meter\n",
      "This car has 0 miles on meter\n"
     ]
    }
   ],
   "source": [
    "C1.odometer_reading = 34\n",
    "C1.odometer_reading\n",
    "C1.read_odometer()\n",
    "C2 = Car(\"toyota\",\"A8\",2019)\n",
    "C2.odometer_reading\n",
    "C2.read_odometer()"
   ]
  },
  {
   "cell_type": "markdown",
   "metadata": {},
   "source": [
    "# Modifying values through function\n",
    "\n"
   ]
  },
  {
   "cell_type": "code",
   "execution_count": 93,
   "metadata": {},
   "outputs": [],
   "source": [
    "#setting a default value for an attribute\n",
    "class Car():\n",
    "    def __init__(self,make,model,year):\n",
    "        self.make=  make\n",
    "        self.model = model\n",
    "        self.year = year\n",
    "        self.odometer_reading = 0 # this attribute is not mandetory for instance creation\n",
    "    def get_descriptive_name(self):\n",
    "        long_name = str(self.year)+ ' ' + self.make + ' ' +self.model\n",
    "        return long_name.title()\n",
    "        \n",
    "    def read_odometer(self):\n",
    "        print(\"This car has\"+' ' + str(self.odometer_reading) + ' '+\"miles on meter\")\n",
    "        \n",
    "    def update_odometer(self,mileage):\n",
    "        if mileage>=self.odometer_reading:\n",
    "             self.odometer_reading = mileage\n",
    "        else:\n",
    "            print(\"you cant roll back an odometer\")\n",
    "            \n",
    "    def increament(self,miles):\n",
    "        self.odometer_reading += miles\n",
    "        "
   ]
  },
  {
   "cell_type": "code",
   "execution_count": 94,
   "metadata": {
    "collapsed": true
   },
   "outputs": [],
   "source": [
    "c3 = Car(\"Honda\",\"CT\",2019)\n",
    "c4 =  Car(\"BMW\",\"XYX\",2019)\n"
   ]
  },
  {
   "cell_type": "code",
   "execution_count": 95,
   "metadata": {},
   "outputs": [
    {
     "name": "stdout",
     "output_type": "stream",
     "text": [
      "This car has 0 miles on meter\n"
     ]
    }
   ],
   "source": [
    "c3.read_odometer()"
   ]
  },
  {
   "cell_type": "code",
   "execution_count": 96,
   "metadata": {},
   "outputs": [
    {
     "name": "stdout",
     "output_type": "stream",
     "text": [
      "This car has 0 miles on meter\n"
     ]
    }
   ],
   "source": [
    "c4.read_odometer()"
   ]
  },
  {
   "cell_type": "code",
   "execution_count": 97,
   "metadata": {},
   "outputs": [],
   "source": [
    "c4.update_odometer(60)"
   ]
  },
  {
   "cell_type": "code",
   "execution_count": 107,
   "metadata": {},
   "outputs": [
    {
     "name": "stdout",
     "output_type": "stream",
     "text": [
      "This car has 72 miles on meter\n"
     ]
    }
   ],
   "source": [
    "c4.\n",
    "c4.read_odometer()"
   ]
  },
  {
   "cell_type": "code",
   "execution_count": 108,
   "metadata": {},
   "outputs": [
    {
     "name": "stdout",
     "output_type": "stream",
     "text": [
      "This car has 72 miles on meter\n",
      "This car has 0 miles on meter\n"
     ]
    }
   ],
   "source": [
    "c4.read_odometer()\n",
    "c3.read_odometer()"
   ]
  },
  {
   "cell_type": "code",
   "execution_count": null,
   "metadata": {
    "collapsed": true
   },
   "outputs": [],
   "source": []
  }
 ],
 "metadata": {
  "kernelspec": {
   "display_name": "Python 3",
   "language": "python",
   "name": "python3"
  },
  "language_info": {
   "codemirror_mode": {
    "name": "ipython",
    "version": 3
   },
   "file_extension": ".py",
   "mimetype": "text/x-python",
   "name": "python",
   "nbconvert_exporter": "python",
   "pygments_lexer": "ipython3",
   "version": "3.6.1"
  }
 },
 "nbformat": 4,
 "nbformat_minor": 2
}
